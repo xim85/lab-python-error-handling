{
 "cells": [
  {
   "cell_type": "markdown",
   "id": "25d7736c-ba17-4aff-b6bb-66eba20fbf4e",
   "metadata": {},
   "source": [
    "# Lab | Error Handling"
   ]
  },
  {
   "cell_type": "markdown",
   "id": "bc99b386-7508-47a0-bcdb-d969deaf6c8b",
   "metadata": {},
   "source": [
    "## Exercise: Error Handling for Managing Customer Orders\n",
    "\n",
    "The implementation of your code for managing customer orders assumes that the user will always enter a valid input. \n",
    "\n",
    "For example, we could modify the `initialize_inventory` function to include error handling.\n",
    "   - If the user enters an invalid quantity (e.g., a negative value or a non-numeric value), display an error message and ask them to re-enter the quantity for that product.\n",
    "   - Use a try-except block to handle the error and continue prompting the user until a valid quantity is entered.\n",
    "\n",
    "```python\n",
    "# Step 1: Define the function for initializing the inventory with error handling\n",
    "def initialize_inventory(products):\n",
    "    inventory = {}\n",
    "    for product in products:\n",
    "        valid_quantity = False\n",
    "        while not valid_quantity:\n",
    "            try:\n",
    "                quantity = int(input(f\"Enter the quantity of {product}s available: \"))\n",
    "                if quantity < 0:\n",
    "                    raise ValueError(\"Invalid quantity! Please enter a non-negative value.\")\n",
    "                valid_quantity = True\n",
    "            except ValueError as error:\n",
    "                print(f\"Error: {error}\")\n",
    "        inventory[product] = quantity\n",
    "    return inventory\n",
    "\n",
    "# Or, in another way:\n",
    "\n",
    "def initialize_inventory(products):\n",
    "    inventory = {}\n",
    "    for product in products:\n",
    "        valid_input = False\n",
    "        while not valid_input:\n",
    "            try:\n",
    "                quantity = int(input(f\"Enter the quantity of {product}s available: \"))\n",
    "                if quantity >= 0:\n",
    "                    inventory[product] = quantity\n",
    "                    valid_input = True\n",
    "                else:\n",
    "                    print(\"Quantity cannot be negative. Please enter a valid quantity.\")\n",
    "            except ValueError:\n",
    "                print(\"Invalid input. Please enter a valid quantity.\")\n",
    "    return inventory\n",
    "```\n",
    "\n",
    "Let's enhance your code by implementing error handling to handle invalid inputs.\n",
    "\n",
    "Follow the steps below to complete the exercise:\n",
    "\n",
    "2. Modify the `calculate_total_price` function to include error handling.\n",
    "   - If the user enters an invalid price (e.g., a negative value or a non-numeric value), display an error message and ask them to re-enter the price for that product.\n",
    "   - Use a try-except block to handle the error and continue prompting the user until a valid price is entered.\n",
    "\n",
    "3. Modify the `get_customer_orders` function to include error handling.\n",
    "   - If the user enters an invalid number of orders (e.g., a negative value or a non-numeric value), display an error message and ask them to re-enter the number of orders.\n",
    "   - If the user enters an invalid product name (e.g., a product name that is not in the inventory), or that doesn't have stock available, display an error message and ask them to re-enter the product name. *Hint: you will need to pass inventory as a parameter*\n",
    "   - Use a try-except block to handle the error and continue prompting the user until a valid product name is entered.\n",
    "\n",
    "4. Test your code by running the program and deliberately entering invalid quantities and product names. Make sure the error handling mechanism works as expected.\n"
   ]
  },
  {
   "cell_type": "code",
   "execution_count": 4,
   "id": "02ef07e4",
   "metadata": {},
   "outputs": [
    {
     "data": {
      "text/plain": [
       "{'t-shirt': 6, 'mug': 6, 'hat': 6, 'book': 6, 'keychain': 6}"
      ]
     },
     "execution_count": 4,
     "metadata": {},
     "output_type": "execute_result"
    }
   ],
   "source": [
    "# 1 \n",
    "products = [\"t-shirt\", \"mug\", \"hat\", \"book\", \"keychain\"]\n",
    "def initialize_inventory(products):\n",
    "    inventory = {}\n",
    "    for product in products:\n",
    "        valid_input = False\n",
    "        while not valid_input:\n",
    "            try:\n",
    "                quantity = int(input(f\"Enter the quantity of {product}s available: \"))\n",
    "                if quantity >= 0:\n",
    "                    inventory[product] = quantity\n",
    "                    valid_input = True\n",
    "                else:\n",
    "                    print(\"Quantity cannot be negative. Please enter a valid quantity.\")\n",
    "            except ValueError:\n",
    "                print(\"Invalid input. Please enter a valid quantity.\")\n",
    "    return inventory\n",
    "\n",
    "initialize_inventory(products)\n"
   ]
  },
  {
   "cell_type": "code",
   "execution_count": 21,
   "id": "8d07f1a6",
   "metadata": {},
   "outputs": [
    {
     "data": {
      "text/plain": [
       "{}"
      ]
     },
     "execution_count": 21,
     "metadata": {},
     "output_type": "execute_result"
    }
   ],
   "source": [
    "def update_inventory(customer_orders, inventory):\n",
    "    for product in customer_orders:\n",
    "        if product in inventory.keys():\n",
    "            inventory[product] -= 1\n",
    "    return inventory\n",
    "    \n",
    "update_inventory(customer_orders, inventory)"
   ]
  },
  {
   "cell_type": "code",
   "execution_count": 16,
   "id": "a169145d",
   "metadata": {},
   "outputs": [
    {
     "name": "stdout",
     "output_type": "stream",
     "text": [
      "Product name is not in the list.\n",
      "hat has been added to your orders.\n",
      "mug has been added to your orders.\n",
      "Thank you for your orders!\n",
      "Customer orders: {'hat', 'mug'}\n"
     ]
    }
   ],
   "source": [
    "# 3 customer_orders = set()\n",
    "def get_customer_orders():\n",
    "    customer_orders = set()\n",
    "    while True:\n",
    "        try:\n",
    "            order = input(\"Do you want to order a product? (yes/no): \").strip().lower()\n",
    "            if order not in {\"yes\", \"no\"}:\n",
    "                raise ValueError(\"Invalid response. Please enter 'yes' or 'no'.\")\n",
    "            if order == \"no\":\n",
    "                print(\"Thank you for your orders!\")\n",
    "                break\n",
    "            \n",
    "            product = input(\"What product does the customer want to order?: \").strip()\n",
    "            \n",
    "            if product not in products:\n",
    "                raise ValueError(\"Product name is not in the list.\")\n",
    "\n",
    "            else:\n",
    "                customer_orders.add(product)\n",
    "                print(f\"{product} has been added to your orders.\")\n",
    "        \n",
    "        except ValueError as e:\n",
    "            print(e)\n",
    "        except Exception as e:\n",
    "            print(f\"An unexpected error occurred: {e}\")\n",
    "    \n",
    "    return customer_orders\n",
    "\n",
    "customer_orders = get_customer_orders()\n",
    "print(\"Customer orders:\", customer_orders)"
   ]
  },
  {
   "cell_type": "code",
   "execution_count": 23,
   "id": "b118f4d3",
   "metadata": {},
   "outputs": [
    {
     "name": "stdout",
     "output_type": "stream",
     "text": [
      "Total price for products is: 7.0\n"
     ]
    }
   ],
   "source": [
    "# 2 Modify the `calculate_total_price`\n",
    "def calculate_total_price(customer_orders):\n",
    "    total_price = 0\n",
    "    \n",
    "    for product in customer_orders:\n",
    "        while True:\n",
    "            try:\n",
    "                price_input = input(f\"Enter the price for '{product}': \").strip()\n",
    "                price = float(price_input)\n",
    "                if price <= 0:\n",
    "                    raise ValueError(\"Price must be a positive number.\")\n",
    "                total_price += price\n",
    "                break \n",
    "            \n",
    "            except ValueError:\n",
    "                print(f\"Error: '{price_input}' is not a valid price. Please enter a valid numeric price for '{product}'.\")\n",
    "    \n",
    "    return total_price\n",
    "price = calculate_total_price(customer_orders)\n",
    "print(f\"Total price for products is: {price}\")"
   ]
  },
  {
   "cell_type": "code",
   "execution_count": 24,
   "id": "1ff9af30",
   "metadata": {},
   "outputs": [
    {
     "name": "stdout",
     "output_type": "stream",
     "text": [
      "hat has been added to your orders.\n",
      "mug has been added to your orders.\n",
      "Thank you for your orders!\n",
      "Error: '' is not a valid price. Please enter a valid numeric price for 'hat'.\n"
     ]
    },
    {
     "data": {
      "text/plain": [
       "11.0"
      ]
     },
     "execution_count": 24,
     "metadata": {},
     "output_type": "execute_result"
    }
   ],
   "source": [
    "# 4 \n",
    "initialize_inventory(products)\n",
    "get_customer_orders()\n",
    "update_inventory(customer_orders, inventory)\n",
    "calculate_total_price(customer_orders)\n"
   ]
  }
 ],
 "metadata": {
  "kernelspec": {
   "display_name": "Python 3 (ipykernel)",
   "language": "python",
   "name": "python3"
  },
  "language_info": {
   "codemirror_mode": {
    "name": "ipython",
    "version": 3
   },
   "file_extension": ".py",
   "mimetype": "text/x-python",
   "name": "python",
   "nbconvert_exporter": "python",
   "pygments_lexer": "ipython3",
   "version": "3.11.7"
  }
 },
 "nbformat": 4,
 "nbformat_minor": 5
}
